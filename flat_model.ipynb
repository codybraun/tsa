{
 "cells": [
  {
   "cell_type": "code",
   "execution_count": 5,
   "metadata": {
    "collapsed": true
   },
   "outputs": [],
   "source": [
    "import numpy as np\n",
    "import matplotlib as mpl\n",
    "import os\n",
    "import matplotlib.pyplot as plt\n",
    "import matplotlib.animation\n",
    "import tensorflow as tf\n",
    "from numpy import genfromtxt\n",
    "import pandas as pd\n",
    "import sys\n",
    "import math \n",
    "\n",
    "sys.path.append(os.getcwd())\n",
    "import tsa_utils\n",
    "import deep_cnn\n",
    "import flattened_cnn2\n",
    "import mini_cnn\n",
    "\n",
    "from shutil import copytree\n"
   ]
  },
  {
   "cell_type": "code",
   "execution_count": 9,
   "metadata": {
    "collapsed": true
   },
   "outputs": [],
   "source": [
    "DATA_PATH=\"/home/cody/workspace/tsa/images/\"\n",
    "CHECKPOINT_PATH=\"/home/cody/workspace/tsa_data/notebook1\"\n",
    "MODEL_ID=\"tsa_nb\""
   ]
  },
  {
   "cell_type": "code",
   "execution_count": 10,
   "metadata": {},
   "outputs": [],
   "source": [
    "image_df = pd.read_csv(DATA_PATH + '/stage1_labels.csv')\n",
    "image_df['zone'] = image_df['Id'].str.split(\"_\", expand=True)[1].str.strip()\n",
    "image_df['id'] = image_df['Id'].str.split(\"_\", expand=True)[0].str.strip()\n",
    "\n",
    "ids = image_df[\"id\"].unique()\n",
    "ids.sort()\n",
    "training_ids = ids\n",
    "\n",
    "labels = image_df[image_df['id'].isin(training_ids)]\n",
    "labels = labels.sort_values(\"id\")\n",
    "\n",
    "tensors_to_log =  {\"probabilities\": \"softmax_tensor\",\n",
    "                    \"actual\":\"labels\"}\n"
   ]
  },
  {
   "cell_type": "code",
   "execution_count": null,
   "metadata": {
    "scrolled": false
   },
   "outputs": [
    {
     "name": "stdout",
     "output_type": "stream",
     "text": [
      "FITTING MODEL FOR ZONE 1\n",
      "INFO:tensorflow:Using default config.\n",
      "INFO:tensorflow:Using config: {'_model_dir': None, '_save_checkpoints_secs': 600, '_num_ps_replicas': 0, '_keep_checkpoint_max': 5, '_tf_random_seed': None, '_task_type': None, '_environment': 'local', '_is_chief': True, '_cluster_spec': <tensorflow.python.training.server_lib.ClusterSpec object at 0xa1b2050>, '_tf_config': gpu_options {\n",
      "  per_process_gpu_memory_fraction: 1\n",
      "}\n",
      ", '_num_worker_replicas': 0, '_task_id': 0, '_save_summary_steps': 100, '_save_checkpoints_steps': None, '_evaluation_master': '', '_keep_checkpoint_every_n_hours': 10000, '_master': ''}\n",
      "WARNING:tensorflow:From flattened_cnn2.py:94: calling fit (from tensorflow.contrib.learn.python.learn.estimators.estimator) with y is deprecated and will be removed after 2016-12-01.\n",
      "Instructions for updating:\n",
      "Estimator is decoupled from Scikit Learn interface by moving into\n",
      "separate class SKCompat. Arguments x, y and batch_size are only\n",
      "available in the SKCompat class, Estimator will only accept input_fn.\n",
      "Example conversion:\n",
      "  est = Estimator(...) -> est = SKCompat(Estimator(...))\n",
      "WARNING:tensorflow:From flattened_cnn2.py:94: calling fit (from tensorflow.contrib.learn.python.learn.estimators.estimator) with x is deprecated and will be removed after 2016-12-01.\n",
      "Instructions for updating:\n",
      "Estimator is decoupled from Scikit Learn interface by moving into\n",
      "separate class SKCompat. Arguments x, y and batch_size are only\n",
      "available in the SKCompat class, Estimator will only accept input_fn.\n",
      "Example conversion:\n",
      "  est = Estimator(...) -> est = SKCompat(Estimator(...))\n",
      "WARNING:tensorflow:From flattened_cnn2.py:94: calling fit (from tensorflow.contrib.learn.python.learn.estimators.estimator) with batch_size is deprecated and will be removed after 2016-12-01.\n",
      "Instructions for updating:\n",
      "Estimator is decoupled from Scikit Learn interface by moving into\n",
      "separate class SKCompat. Arguments x, y and batch_size are only\n",
      "available in the SKCompat class, Estimator will only accept input_fn.\n",
      "Example conversion:\n",
      "  est = Estimator(...) -> est = SKCompat(Estimator(...))\n"
     ]
    },
    {
     "name": "stderr",
     "output_type": "stream",
     "text": [
      "/home/cody/anaconda3/envs/p2.7/lib/python2.7/site-packages/ipykernel/__main__.py:5: SettingWithCopyWarning: \n",
      "A value is trying to be set on a copy of a slice from a DataFrame.\n",
      "Try using .loc[row_indexer,col_indexer] = value instead\n",
      "\n",
      "See the caveats in the documentation: http://pandas.pydata.org/pandas-docs/stable/indexing.html#indexing-view-versus-copy\n",
      "/home/cody/anaconda3/envs/p2.7/lib/python2.7/site-packages/ipykernel/__main__.py:6: SettingWithCopyWarning: \n",
      "A value is trying to be set on a copy of a slice from a DataFrame.\n",
      "Try using .loc[row_indexer,col_indexer] = value instead\n",
      "\n",
      "See the caveats in the documentation: http://pandas.pydata.org/pandas-docs/stable/indexing.html#indexing-view-versus-copy\n"
     ]
    },
    {
     "name": "stdout",
     "output_type": "stream",
     "text": [
      "Tensor(\"conv1/BiasAdd:0\", shape=(10, 16, 330, 256, 24), dtype=float32)\n",
      "Tensor(\"conv2/Relu:0\", shape=(10, 16, 330, 256, 24), dtype=float32)\n",
      "Tensor(\"pool1/MaxPool3D:0\", shape=(10, 1, 164, 127, 24), dtype=float32)\n",
      "Tensor(\"pool2/MaxPool:0\", shape=(10, 54, 42, 24), dtype=float32)\n",
      "Tensor(\"conv3/BiasAdd:0\", shape=(10, 27, 21, 24), dtype=float32)\n",
      "Tensor(\"pool1_2/MaxPool:0\", shape=(10, 13, 10, 24), dtype=float32)\n",
      "Tensor(\"conv4/Relu:0\", shape=(10, 13, 10, 24), dtype=float32)\n",
      "Tensor(\"pool2_2/MaxPool:0\", shape=(10, 6, 4, 24), dtype=float32)\n",
      "INFO:tensorflow:Create CheckpointSaverHook.\n"
     ]
    }
   ],
   "source": [
    "with tf.Session() as sess:\n",
    "\tfor zone in range(1,2):\n",
    "\t\tprint(\"FITTING MODEL FOR ZONE \" + str(zone))\n",
    "\t\ttrain_labels = labels[labels[\"zone\"]==\"Zone\"+str(zone)]\n",
    "\t\ttrain_labels[\"class0\"] = 0\n",
    "\t\ttrain_labels[\"class1\"] = 0\n",
    "\t\ttrain_labels.loc[train_labels['Probability'] == 0, 'class0'] = 1\n",
    "\t\ttrain_labels.loc[train_labels['Probability'] == 1, 'class1'] = 1\n",
    "\t\ttrain_labels = np.reshape(np.array(train_labels[[\"class0\",\"class1\"]]), [-1,2])\n",
    "\t\t#model = deep_cnn.ZoneModel(MODEL_ID, training_ids, \"Zone\" + str(zone), None, None, DATA_PATH, train_labels, CHECKPOINT_PATH, localize=True)\n",
    "\t\tmodel = flattened_cnn2.ZoneModel(MODEL_ID, training_ids, \"Zone\" + str(zone), None, None, DATA_PATH, train_labels, CHECKPOINT_PATH, localize=False)\n",
    "\t\t#model.bootstrap_model()\n",
    "\t\tmodel.train_model(tensors_to_log, reuse=False)"
   ]
  },
  {
   "cell_type": "code",
   "execution_count": null,
   "metadata": {
    "collapsed": true
   },
   "outputs": [],
   "source": []
  },
  {
   "cell_type": "code",
   "execution_count": null,
   "metadata": {
    "collapsed": true
   },
   "outputs": [],
   "source": []
  },
  {
   "cell_type": "code",
   "execution_count": null,
   "metadata": {
    "collapsed": true
   },
   "outputs": [],
   "source": []
  }
 ],
 "metadata": {
  "kernelspec": {
   "display_name": "Python [conda env:p2.7]",
   "language": "python",
   "name": "conda-env-p2.7-py"
  },
  "language_info": {
   "codemirror_mode": {
    "name": "ipython",
    "version": 2
   },
   "file_extension": ".py",
   "mimetype": "text/x-python",
   "name": "python",
   "nbconvert_exporter": "python",
   "pygments_lexer": "ipython2",
   "version": "2.7.6"
  }
 },
 "nbformat": 4,
 "nbformat_minor": 2
}
