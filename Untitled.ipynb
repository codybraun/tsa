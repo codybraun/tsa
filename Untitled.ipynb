{
 "cells": [
  {
   "cell_type": "code",
   "execution_count": 4,
   "metadata": {},
   "outputs": [],
   "source": [
    "def all_binary(n):\n",
    "    if n ==1:\n",
    "        return [\"0\",\"1\"]\n",
    "    elif n ==0:\n",
    "        return []\n",
    "    else:\n",
    "        n = n - 1\n",
    "        return [\"0\" + binary for binary in all_binary(n)] + [\"1\" + binary for binary in all_binary(n)]\n",
    "        "
   ]
  },
  {
   "cell_type": "code",
   "execution_count": 6,
   "metadata": {},
   "outputs": [
    {
     "data": {
      "text/plain": [
       "['0000',\n",
       " '0001',\n",
       " '0010',\n",
       " '0011',\n",
       " '0100',\n",
       " '0101',\n",
       " '0110',\n",
       " '0111',\n",
       " '1000',\n",
       " '1001',\n",
       " '1010',\n",
       " '1011',\n",
       " '1100',\n",
       " '1101',\n",
       " '1110',\n",
       " '1111']"
      ]
     },
     "execution_count": 6,
     "metadata": {},
     "output_type": "execute_result"
    }
   ],
   "source": [
    "all_binary(4)"
   ]
  },
  {
   "cell_type": "code",
   "execution_count": 24,
   "metadata": {},
   "outputs": [],
   "source": [
    "def connected_region(matrix):\n",
    "    running_max = 0\n",
    "    size_matrix = [[0] * len(matrix[0])] * len(matrix)\n",
    "    print(size_matrix)\n",
    "    for i in range(1, len(matrix)):\n",
    "        for j in range(1, len(matrix[1])):\n",
    "            size_matrix[i][j] = max(size_matrix[i][j-1], matrix[i][j], size_matrix[i-1][j])\n",
    "            if matrix[i][j] == 1: size_matrix[i][j] = size_matrix[i][j] + 1\n",
    "            print size_matrix\n",
    "    return size_matrix"
   ]
  },
  {
   "cell_type": "code",
   "execution_count": 25,
   "metadata": {},
   "outputs": [
    {
     "name": "stdout",
     "output_type": "stream",
     "text": [
      "[[0, 0, 0], [0, 0, 0], [0, 0, 0]]\n",
      "[[0, 2, 0], [0, 2, 0], [0, 2, 0]]\n",
      "[[0, 2, 3], [0, 2, 3], [0, 2, 3]]\n",
      "[[0, 3, 3], [0, 3, 3], [0, 3, 3]]\n",
      "[[0, 3, 4], [0, 3, 4], [0, 3, 4]]\n"
     ]
    },
    {
     "data": {
      "text/plain": [
       "[[0, 3, 4], [0, 3, 4], [0, 3, 4]]"
      ]
     },
     "execution_count": 25,
     "metadata": {},
     "output_type": "execute_result"
    }
   ],
   "source": [
    "connected_region([[0,0,0], [1,1,1], [1,1,1]])"
   ]
  },
  {
   "cell_type": "code",
   "execution_count": null,
   "metadata": {
    "collapsed": true
   },
   "outputs": [],
   "source": []
  },
  {
   "cell_type": "code",
   "execution_count": null,
   "metadata": {
    "collapsed": true
   },
   "outputs": [],
   "source": []
  }
 ],
 "metadata": {
  "kernelspec": {
   "display_name": "Python [conda env:p2.7]",
   "language": "python",
   "name": "conda-env-p2.7-py"
  },
  "language_info": {
   "codemirror_mode": {
    "name": "ipython",
    "version": 2
   },
   "file_extension": ".py",
   "mimetype": "text/x-python",
   "name": "python",
   "nbconvert_exporter": "python",
   "pygments_lexer": "ipython2",
   "version": "2.7.6"
  }
 },
 "nbformat": 4,
 "nbformat_minor": 2
}
