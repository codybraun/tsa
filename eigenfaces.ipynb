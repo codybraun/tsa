{
 "cells": [
  {
   "cell_type": "code",
   "execution_count": 1,
   "metadata": {
    "scrolled": false
   },
   "outputs": [
    {
     "name": "stdout",
     "output_type": "stream",
     "text": [
      "Requirement already up-to-date: dask in /usr/local/lib/python2.7/site-packages\n"
     ]
    }
   ],
   "source": [
    "import tsa_utils\n",
    "import deep_cnn\n",
    "import mini_cnn\n",
    "\n",
    "from shutil import copytree\n",
    "import numpy as np\n",
    "import matplotlib as mpl\n",
    "import os\n",
    "import matplotlib.pyplot as plt\n",
    "import matplotlib.animation\n",
    "import tensorflow as tf\n",
    "from numpy import genfromtxt\n",
    "import pandas as pd\n",
    "import sys\n",
    "sys.path.append(os.getcwd())\n",
    "\n",
    "import numpy as np\n",
    "import matplotlib as mpl\n",
    "import os\n",
    "import matplotlib.pyplot as plt\n",
    "import matplotlib.animation\n",
    "import tensorflow as tf\n",
    "from numpy import genfromtxt\n",
    "import pandas as pd\n",
    "import sys\n",
    "import math \n",
    "import sklearn\n",
    "from sklearn import metrics\n",
    "\n",
    "sys.path.append(os.getcwd())\n",
    "import mini_cnn\n",
    "import pip\n",
    "pip.main(['install', '--upgrade', 'dask'])\n",
    "import sklearn.decomposition\n",
    "from sklearn.preprocessing import StandardScaler\n",
    "import pickle\n",
    "import scipy.misc\n",
    "import skimage.io\n",
    "import cv2\n",
    "import skimage.measure"
   ]
  },
  {
   "cell_type": "code",
   "execution_count": 2,
   "metadata": {
    "collapsed": true
   },
   "outputs": [],
   "source": [
    "DATA_PATH=\"/data_volume/\"\n",
    "CHECKPOINT_PATH=\"/output/multi-class8\"\n",
    "MODEL_ID=\"multi_class\"\n"
   ]
  },
  {
   "cell_type": "code",
   "execution_count": 3,
   "metadata": {
    "collapsed": true
   },
   "outputs": [],
   "source": [
    "image_df = pd.read_csv(DATA_PATH + 'stage1_labels.csv')\n",
    "image_df['zone'] = image_df['Id'].str.split(\"_\", expand=True)[1].str.strip()\n",
    "image_df['id'] = image_df['Id'].str.split(\"_\", expand=True)[0].str.strip()\n",
    "# image_df=image_df.groupby(\"id\").sum().reset_index()\n",
    "image_df = image_df[image_df[\"zone\"]==\"Zone14\"]\n",
    "safe_labels = image_df[image_df[\"Probability\"]== 0][\"id\"].unique()\n",
    "unsafe_labels = image_df[image_df[\"Probability\"]>0][\"id\"].unique()"
   ]
  },
  {
   "cell_type": "code",
   "execution_count": 4,
   "metadata": {
    "collapsed": true
   },
   "outputs": [],
   "source": [
    "all_labels = image_df.id.unique()"
   ]
  },
  {
   "cell_type": "code",
   "execution_count": 5,
   "metadata": {
    "collapsed": true
   },
   "outputs": [],
   "source": [
    "def threshold_image(image_path):\n",
    "    data = tsa_utils.read_data(DATA_PATH + label + \".aps\").reshape(16 * 660, 512, order=\"A\")\n",
    "    data *= 255/data.max() \n",
    "    data = data.astype(np.uint8)\n",
    "    return cv2.adaptiveThreshold(data,255,cv2.ADAPTIVE_THRESH_MEAN_C, cv2.THRESH_BINARY,11,5)"
   ]
  },
  {
   "cell_type": "code",
   "execution_count": 6,
   "metadata": {
    "collapsed": true,
    "scrolled": true
   },
   "outputs": [],
   "source": [
    "# for label in all_labels:\n",
    "#     thresholded_image = threshold_image(DATA_PATH + label + \"\")\n",
    "#     thresholded_file = open(DATA_PATH + \"thresholded_images/\" + label ,\"wb+\")\n",
    "#     thresholded_image.dump(thresholded_file)"
   ]
  },
  {
   "cell_type": "code",
   "execution_count": 7,
   "metadata": {},
   "outputs": [
    {
     "data": {
      "image/png": "[encoded data removed]",
      "text/plain": [
       "<matplotlib.figure.Figure at 0x7f5bb8118bd0>"
      ]
     },
     "metadata": {},
     "output_type": "display_data"
    }
   ],
   "source": [
    "plt.imshow(np.load(DATA_PATH + \"/thresholded_images/467cfa7996fcdb7e4f5c4d64c2a01de2\").reshape(16 * 660, 512, order=\"A\")[:700,:])\n",
    "plt.show()"
   ]
  },
  {
   "cell_type": "code",
   "execution_count": 8,
   "metadata": {
    "scrolled": false
   },
   "outputs": [],
   "source": [
    "def fit_pca(zone):\n",
    "    image_df = pd.read_csv(DATA_PATH + 'stage1_labels.csv')\n",
    "    image_df['zone'] = image_df['Id'].str.split(\"_\", expand=True)[1].str.strip()\n",
    "    image_df['id'] = image_df['Id'].str.split(\"_\", expand=True)[0].str.strip()\n",
    "    # image_df=image_df.groupby(\"id\").sum().reset_index()\n",
    "    image_df = image_df[image_df[\"zone\"]==\"Zone\" + zone]\n",
    "    safe_labels = image_df[image_df[\"Probability\"]== 0][\"id\"].unique()\n",
    "    unsafe_labels = image_df[image_df[\"Probability\"]>0][\"id\"].unique()\n",
    "\n",
    "    big_safe_pca = sklearn.decomposition.IncrementalPCA(n_components=90)\n",
    "    medium_safe_pca = sklearn.decomposition.IncrementalPCA(n_components=70)\n",
    "    small_safe_pca = sklearn.decomposition.IncrementalPCA(n_components=30)\n",
    "    micro_safe_pca = sklearn.decomposition.IncrementalPCA(n_components=10)\n",
    "    data_buffer = []\n",
    "\n",
    "    for label in safe_labels:\n",
    "        data = pickle.load(open(DATA_PATH + \"/thresholded_images/\" + str(label), \"rb\")).flatten()\n",
    "        data_buffer.append(data)\n",
    "        if len(data_buffer) > 90:\n",
    "            big_safe_pca.partial_fit(data_buffer)\n",
    "            medium_safe_pca.partial_fit(data_buffer)\n",
    "            small_safe_pca.partial_fit(data_buffer)\n",
    "            micro_safe_pca.partial_fit(data_buffer)\n",
    "            data_buffer = []\n",
    "            print(\"FINISHED BATCH\")\n",
    "    big_safe_pca.partial_fit(data_buffer)\n",
    "    medium_safe_pca.partial_fit(data_buffer)\n",
    "    small_safe_pca.partial_fit(data_buffer)\n",
    "    micro_safe_pca.partial_fit(data_buffer)\n",
    "    pickle.dump(big_safe_pca,open(\"/output/\" + str(zone) + \"big_safe_pca.p\",\"wb+\")),\n",
    "    pickle.dump(medium_safe_pca,open(\"/output/\" + str(zone) + \"medium_safe_pca.p\",\"wb+\"))\n",
    "    pickle.dump(small_safe_pca,open(\"/output/\" + str(zone) + \"small_safe_pca.p\",\"wb+\"))\n",
    "    pickle.dump(micro_safe_pca,open(\"/output/\" + str(zone) + \"micro_safe_pca.p\",\"wb+\"))"
   ]
  },
  {
   "cell_type": "code",
   "execution_count": 9,
   "metadata": {},
   "outputs": [
    {
     "name": "stdout",
     "output_type": "stream",
     "text": [
      "FINISHED BATCH\n",
      "FINISHED BATCH\n",
      "FINISHED BATCH\n",
      "FINISHED BATCH\n",
      "FINISHED BATCH\n",
      "FINISHED BATCH\n",
      "FINISHED BATCH\n",
      "FINISHED BATCH\n",
      "FINISHED BATCH\n",
      "FINISHED BATCH\n",
      "FINISHED BATCH\n"
     ]
    },
    {
     "ename": "EOFError",
     "evalue": "",
     "output_type": "error",
     "traceback": [
      "\u001b[0;31m\u001b[0m",
      "\u001b[0;31mEOFError\u001b[0mTraceback (most recent call last)",
      "\u001b[0;32m<ipython-input-9-ab5e5a4304ae>\u001b[0m in \u001b[0;36m<module>\u001b[0;34m()\u001b[0m\n\u001b[1;32m      1\u001b[0m \u001b[0;32mfor\u001b[0m \u001b[0mzone\u001b[0m \u001b[0;32min\u001b[0m \u001b[0mrange\u001b[0m\u001b[0;34m(\u001b[0m\u001b[0;36m1\u001b[0m\u001b[0;34m,\u001b[0m\u001b[0;36m18\u001b[0m\u001b[0;34m)\u001b[0m\u001b[0;34m:\u001b[0m\u001b[0;34m\u001b[0m\u001b[0m\n\u001b[0;32m----> 2\u001b[0;31m     \u001b[0mfit_pca\u001b[0m\u001b[0;34m(\u001b[0m\u001b[0mstr\u001b[0m\u001b[0;34m(\u001b[0m\u001b[0mzone\u001b[0m\u001b[0;34m)\u001b[0m\u001b[0;34m)\u001b[0m\u001b[0;34m\u001b[0m\u001b[0m\n\u001b[0m",
      "\u001b[0;32m<ipython-input-8-95963ac07ce8>\u001b[0m in \u001b[0;36mfit_pca\u001b[0;34m(zone)\u001b[0m\n\u001b[1;32m     15\u001b[0m \u001b[0;34m\u001b[0m\u001b[0m\n\u001b[1;32m     16\u001b[0m     \u001b[0;32mfor\u001b[0m \u001b[0mlabel\u001b[0m \u001b[0;32min\u001b[0m \u001b[0msafe_labels\u001b[0m\u001b[0;34m:\u001b[0m\u001b[0;34m\u001b[0m\u001b[0m\n\u001b[0;32m---> 17\u001b[0;31m         \u001b[0mdata\u001b[0m \u001b[0;34m=\u001b[0m \u001b[0mpickle\u001b[0m\u001b[0;34m.\u001b[0m\u001b[0mload\u001b[0m\u001b[0;34m(\u001b[0m\u001b[0mopen\u001b[0m\u001b[0;34m(\u001b[0m\u001b[0mDATA_PATH\u001b[0m \u001b[0;34m+\u001b[0m \u001b[0;34m\"/thresholded_images/\"\u001b[0m \u001b[0;34m+\u001b[0m \u001b[0mstr\u001b[0m\u001b[0;34m(\u001b[0m\u001b[0mlabel\u001b[0m\u001b[0;34m)\u001b[0m\u001b[0;34m,\u001b[0m \u001b[0;34m\"rb\"\u001b[0m\u001b[0;34m)\u001b[0m\u001b[0;34m)\u001b[0m\u001b[0;34m.\u001b[0m\u001b[0mflatten\u001b[0m\u001b[0;34m(\u001b[0m\u001b[0;34m)\u001b[0m\u001b[0;34m\u001b[0m\u001b[0m\n\u001b[0m\u001b[1;32m     18\u001b[0m         \u001b[0mdata_buffer\u001b[0m\u001b[0;34m.\u001b[0m\u001b[0mappend\u001b[0m\u001b[0;34m(\u001b[0m\u001b[0mdata\u001b[0m\u001b[0;34m)\u001b[0m\u001b[0;34m\u001b[0m\u001b[0m\n\u001b[1;32m     19\u001b[0m         \u001b[0;32mif\u001b[0m \u001b[0mlen\u001b[0m\u001b[0;34m(\u001b[0m\u001b[0mdata_buffer\u001b[0m\u001b[0;34m)\u001b[0m \u001b[0;34m>\u001b[0m \u001b[0;36m90\u001b[0m\u001b[0;34m:\u001b[0m\u001b[0;34m\u001b[0m\u001b[0m\n",
      "\u001b[0;32m/usr/local/lib/python2.7/pickle.pyc\u001b[0m in \u001b[0;36mload\u001b[0;34m(file)\u001b[0m\n\u001b[1;32m   1382\u001b[0m \u001b[0;34m\u001b[0m\u001b[0m\n\u001b[1;32m   1383\u001b[0m \u001b[0;32mdef\u001b[0m \u001b[0mload\u001b[0m\u001b[0;34m(\u001b[0m\u001b[0mfile\u001b[0m\u001b[0;34m)\u001b[0m\u001b[0;34m:\u001b[0m\u001b[0;34m\u001b[0m\u001b[0m\n\u001b[0;32m-> 1384\u001b[0;31m     \u001b[0;32mreturn\u001b[0m \u001b[0mUnpickler\u001b[0m\u001b[0;34m(\u001b[0m\u001b[0mfile\u001b[0m\u001b[0;34m)\u001b[0m\u001b[0;34m.\u001b[0m\u001b[0mload\u001b[0m\u001b[0;34m(\u001b[0m\u001b[0;34m)\u001b[0m\u001b[0;34m\u001b[0m\u001b[0m\n\u001b[0m\u001b[1;32m   1385\u001b[0m \u001b[0;34m\u001b[0m\u001b[0m\n\u001b[1;32m   1386\u001b[0m \u001b[0;32mdef\u001b[0m \u001b[0mloads\u001b[0m\u001b[0;34m(\u001b[0m\u001b[0mstr\u001b[0m\u001b[0;34m)\u001b[0m\u001b[0;34m:\u001b[0m\u001b[0;34m\u001b[0m\u001b[0m\n",
      "\u001b[0;32m/usr/local/lib/python2.7/pickle.pyc\u001b[0m in \u001b[0;36mload\u001b[0;34m(self)\u001b[0m\n\u001b[1;32m    862\u001b[0m             \u001b[0;32mwhile\u001b[0m \u001b[0;36m1\u001b[0m\u001b[0;34m:\u001b[0m\u001b[0;34m\u001b[0m\u001b[0m\n\u001b[1;32m    863\u001b[0m                 \u001b[0mkey\u001b[0m \u001b[0;34m=\u001b[0m \u001b[0mread\u001b[0m\u001b[0;34m(\u001b[0m\u001b[0;36m1\u001b[0m\u001b[0;34m)\u001b[0m\u001b[0;34m\u001b[0m\u001b[0m\n\u001b[0;32m--> 864\u001b[0;31m                 \u001b[0mdispatch\u001b[0m\u001b[0;34m[\u001b[0m\u001b[0mkey\u001b[0m\u001b[0;34m]\u001b[0m\u001b[0;34m(\u001b[0m\u001b[0mself\u001b[0m\u001b[0;34m)\u001b[0m\u001b[0;34m\u001b[0m\u001b[0m\n\u001b[0m\u001b[1;32m    865\u001b[0m         \u001b[0;32mexcept\u001b[0m \u001b[0m_Stop\u001b[0m\u001b[0;34m,\u001b[0m \u001b[0mstopinst\u001b[0m\u001b[0;34m:\u001b[0m\u001b[0;34m\u001b[0m\u001b[0m\n\u001b[1;32m    866\u001b[0m             \u001b[0;32mreturn\u001b[0m \u001b[0mstopinst\u001b[0m\u001b[0;34m.\u001b[0m\u001b[0mvalue\u001b[0m\u001b[0;34m\u001b[0m\u001b[0m\n",
      "\u001b[0;32m/usr/local/lib/python2.7/pickle.pyc\u001b[0m in \u001b[0;36mload_eof\u001b[0;34m(self)\u001b[0m\n\u001b[1;32m    884\u001b[0m \u001b[0;34m\u001b[0m\u001b[0m\n\u001b[1;32m    885\u001b[0m     \u001b[0;32mdef\u001b[0m \u001b[0mload_eof\u001b[0m\u001b[0;34m(\u001b[0m\u001b[0mself\u001b[0m\u001b[0;34m)\u001b[0m\u001b[0;34m:\u001b[0m\u001b[0;34m\u001b[0m\u001b[0m\n\u001b[0;32m--> 886\u001b[0;31m         \u001b[0;32mraise\u001b[0m \u001b[0mEOFError\u001b[0m\u001b[0;34m\u001b[0m\u001b[0m\n\u001b[0m\u001b[1;32m    887\u001b[0m     \u001b[0mdispatch\u001b[0m\u001b[0;34m[\u001b[0m\u001b[0;34m''\u001b[0m\u001b[0;34m]\u001b[0m \u001b[0;34m=\u001b[0m \u001b[0mload_eof\u001b[0m\u001b[0;34m\u001b[0m\u001b[0m\n\u001b[1;32m    888\u001b[0m \u001b[0;34m\u001b[0m\u001b[0m\n",
      "\u001b[0;31mEOFError\u001b[0m: "
     ]
    }
   ],
   "source": [
    "for zone in range(1,18):\n",
    "    fit_pca(str(zone))"
   ]
  },
  {
   "cell_type": "code",
   "execution_count": 41,
   "metadata": {},
   "outputs": [
    {
     "name": "stderr",
     "output_type": "stream",
     "text": [
      "/home/cody/anaconda3/envs/python3/lib/python3.6/site-packages/sklearn/base.py:311: UserWarning: Trying to unpickle estimator IncrementalPCA from version 0.18.2 when using version 0.19.1. This might lead to breaking code or invalid results. Use at your own risk.\n",
      "  UserWarning)\n"
     ]
    },
    {
     "ename": "FileNotFoundError",
     "evalue": "[Errno 2] No such file or directory: './pca_models/large_safe_pca.p'",
     "output_type": "error",
     "traceback": [
      "\u001b[0;31m---------------------------------------------------------------------------\u001b[0m",
      "\u001b[0;31mFileNotFoundError\u001b[0m                         Traceback (most recent call last)",
      "\u001b[0;32m<ipython-input-41-097aa25d7ece>\u001b[0m in \u001b[0;36m<module>\u001b[0;34m()\u001b[0m\n\u001b[1;32m      2\u001b[0m \u001b[0msmall_safe_pca\u001b[0m \u001b[0;34m=\u001b[0m \u001b[0mpickle\u001b[0m\u001b[0;34m.\u001b[0m\u001b[0mload\u001b[0m\u001b[0;34m(\u001b[0m\u001b[0mopen\u001b[0m\u001b[0;34m(\u001b[0m\u001b[0;34m\"./pca_models/small_safe_pca.p\"\u001b[0m\u001b[0;34m,\u001b[0m\u001b[0;34m\"rb+\"\u001b[0m\u001b[0;34m)\u001b[0m\u001b[0;34m)\u001b[0m\u001b[0;34m\u001b[0m\u001b[0m\n\u001b[1;32m      3\u001b[0m \u001b[0mmedium_safe_pca\u001b[0m \u001b[0;34m=\u001b[0m \u001b[0mpickle\u001b[0m\u001b[0;34m.\u001b[0m\u001b[0mload\u001b[0m\u001b[0;34m(\u001b[0m\u001b[0mopen\u001b[0m\u001b[0;34m(\u001b[0m\u001b[0;34m\"./pca_models/medium_safe_pca.p\"\u001b[0m\u001b[0;34m,\u001b[0m\u001b[0;34m\"rb+\"\u001b[0m\u001b[0;34m)\u001b[0m\u001b[0;34m)\u001b[0m\u001b[0;34m\u001b[0m\u001b[0m\n\u001b[0;32m----> 4\u001b[0;31m \u001b[0mlarge_safe_pca\u001b[0m \u001b[0;34m=\u001b[0m \u001b[0mpickle\u001b[0m\u001b[0;34m.\u001b[0m\u001b[0mload\u001b[0m\u001b[0;34m(\u001b[0m\u001b[0mopen\u001b[0m\u001b[0;34m(\u001b[0m\u001b[0;34m\"./pca_models/large_safe_pca.p\"\u001b[0m\u001b[0;34m,\u001b[0m\u001b[0;34m\"rb+\"\u001b[0m\u001b[0;34m)\u001b[0m\u001b[0;34m)\u001b[0m\u001b[0;34m\u001b[0m\u001b[0m\n\u001b[0m",
      "\u001b[0;31mFileNotFoundError\u001b[0m: [Errno 2] No such file or directory: './pca_models/large_safe_pca.p'"
     ]
    }
   ],
   "source": [
    "micro_safe_pca = pickle.load(open(\"./pca_models/micro_safe_pca.p\",\"rb+\"))\n",
    "small_safe_pca = pickle.load(open(\"./pca_models/small_safe_pca.p\",\"rb+\"))\n",
    "medium_safe_pca = pickle.load(open(\"./pca_models/medium_safe_pca.p\",\"rb+\"))\n",
    "large_safe_pca = pickle.load(open(\"./pca_models/large_safe_pca.p\",\"rb+\"))"
   ]
  },
  {
   "cell_type": "code",
   "execution_count": 420,
   "metadata": {},
   "outputs": [
    {
     "name": "stdout",
     "output_type": "stream",
     "text": [
      "00360f79fd6e02781457eda48f85da90\n",
      "0043db5e8c819bffc15261b1f1ac5e42\n",
      "01c08047f617de893bef104fb309203a\n",
      "087d7648e320f02c2c41e029f6cc2cd0\n",
      "0ada538288f0b62b01510b397a8acb9e\n",
      "112c6279f156611fef5f4cf55a9f1a9d\n",
      "131894a9a9203782faac6fa3998621ec\n",
      "158c596536e90a3edb3c84dbecc29420\n",
      "15acb4dd4a23253939644369c8f3f92a\n",
      "1bdbd76b8e1c2a8651262f857ed5f046\n",
      "1e4a14d2e1eb381b773446de1c0c0b7e\n",
      "23f25d09a5d8bf0d21df31ee78bd848a\n",
      "28963ab78126f965b9b3867386698bc1\n",
      "2a1a3dd5e6cd896e85ba8eec69f2744b\n",
      "2a8bd2653b76d9bb771adccd4037e17b\n",
      "2f1365e07ea2b02fffb768c985278d11\n"
     ]
    }
   ],
   "source": [
    "unsafe_diffs =[]\n",
    "for label in unsafe_labels[:16]:\n",
    "    try:\n",
    "        print(label)\n",
    "        data = [threshold_image(DATA_PATH + \"/thresholded_images/\" + str(label)).flatten()]\n",
    "        transformed = medium_safe_pca.transform(data)\n",
    "        reverse_transformed = medium_safe_pca.inverse_transform(transformed) \n",
    "        reverse_transformed = reverse_transformed[0]\n",
    "        data = data[0]\n",
    "        binary_transformed = reverse_transformed.copy()\n",
    "        binary_transformed[reverse_transformed > 230] = 0\n",
    "        binary_transformed[reverse_transformed < 230] = 1\n",
    "        binary_data = data.copy()\n",
    "        binary_data[data > 1] = 0\n",
    "        binary_data[data < 1] = 1\n",
    "        #diff = data[0] - (reverse_transformed[0] * 1.5)\n",
    "        #diff = np.minimum(data, reverse_transformed)\n",
    "        diff = binary_data - binary_transformed\n",
    "        diff[diff==0] = 0\n",
    "        diff[diff>0] = 255\n",
    "        unsafe_diffs.append(diff)\n",
    "    except Exception as e:\n",
    "        print(e)"
   ]
  },
  {
   "cell_type": "code",
   "execution_count": 421,
   "metadata": {
    "collapsed": true
   },
   "outputs": [],
   "source": [
    "def scale_array(array):\n",
    "    mn = np.min(array)\n",
    "    mx = np.max(array)\n",
    "    return np.uint8((array - mn)*255/(mx - mn))"
   ]
  },
  {
   "cell_type": "code",
   "execution_count": 422,
   "metadata": {
    "collapsed": true
   },
   "outputs": [],
   "source": [
    "reduced = skimage.measure.block_reduce(diff.reshape(-1,512), (5,5), np.mean)"
   ]
  },
  {
   "cell_type": "code",
   "execution_count": 423,
   "metadata": {},
   "outputs": [
    {
     "name": "stderr",
     "output_type": "stream",
     "text": [
      "/home/cody/anaconda3/envs/python3/lib/python3.6/site-packages/skimage/io/_io.py:132: UserWarning: diff2.png is a low contrast image\n",
      "  warn('%s is a low contrast image' % fname)\n"
     ]
    }
   ],
   "source": [
    "skimage.io.imsave(\"diff2.png\", scale_array(diff).reshape(-1,512))\n",
    "skimage.io.imsave(\"original2.png\", data.reshape(-1,512))\n",
    "# skimage.io.imsave(\"unsafe_diff.png\", unsafe_diff)\n",
    "skimage.io.imsave(\"transformed2.png\", scale_array(reverse_transformed.reshape(-1,512)))\n",
    "skimage.io.imsave(\"binary_transformed.png\", scale_array(binary_transformed.reshape(-1,512)))\n",
    "skimage.io.imsave(\"binary_data.png\", scale_array(binary_data.reshape(-1,512)))\n",
    "skimage.io.imsave(\"reduced.png\", scale_array(reduced))\n",
    "\n",
    "\n",
    "# skimage.io.imsave(\"unsafe_transformed.png\", unsafe_reverse_transformed)"
   ]
  },
  {
   "cell_type": "code",
   "execution_count": 689,
   "metadata": {
    "collapsed": true
   },
   "outputs": [],
   "source": [
    "diff_diff = diff - unsafe_diff"
   ]
  },
  {
   "cell_type": "code",
   "execution_count": 50,
   "metadata": {},
   "outputs": [
    {
     "data": {
      "image/png": "[encoded data removed]",
      "text/plain": [
       "<matplotlib.figure.Figure at 0xa901090>"
      ]
     },
     "metadata": {},
     "output_type": "display_data"
    }
   ],
   "source": [
    "plt.imshow((diff))\n",
    "plt.show()"
   ]
  },
  {
   "cell_type": "code",
   "execution_count": 547,
   "metadata": {},
   "outputs": [
    {
     "data": {
      "image/png": "[encoded data removed]",
      "text/plain": [
       "<matplotlib.figure.Figure at 0x7fb60cac6510>"
      ]
     },
     "metadata": {},
     "output_type": "display_data"
    }
   ],
   "source": [
    "plt.imshow(data[600:1500,:])\n",
    "plt.show()"
   ]
  },
  {
   "cell_type": "code",
   "execution_count": 162,
   "metadata": {
    "collapsed": true
   },
   "outputs": [],
   "source": [
    "image_df = pd.read_csv(DATA_PATH + 'stage1_labels.csv')\n",
    "image_df['zone'] = image_df['Id'].str.split(\"_\", expand=True)[1].str.strip()\n",
    "image_df['id'] = image_df['Id'].str.split(\"_\", expand=True)[0].str.strip()\n",
    "image_df = image_df[(image_df[\"Probability\"]== 1) & (image_df[\"zone\"]== \"Zone14\")]\n",
    "\n",
    "labels = image_df[\"id\"].unique()\n",
    "matrix = []\n",
    "for label in labels:\n",
    "    matrix.append(tsa_utils.read_data_coords(DATA_PATH + label + \".aps\", \"bottom\",\"left\")[0].flatten())\n",
    "unsafe_matrix = np.vstack(matrix)\n",
    "unsafe_matrix.shape\n",
    "unsafe_matrix = unsafe_matrix"
   ]
  },
  {
   "cell_type": "code",
   "execution_count": 173,
   "metadata": {
    "collapsed": true
   },
   "outputs": [],
   "source": [
    "transformed = safe_pca.transform(unsafe_matrix)\n",
    "unsafe_reverse_transformed = safe_pca.inverse_transform(transformed)"
   ]
  },
  {
   "cell_type": "code",
   "execution_count": null,
   "metadata": {
    "collapsed": true
   },
   "outputs": [],
   "source": []
  }
 ],
 "metadata": {
  "kernelspec": {
   "display_name": "Python 2",
   "language": "python",
   "name": "python2"
  },
  "language_info": {
   "codemirror_mode": {
    "name": "ipython",
    "version": 2
   },
   "file_extension": ".py",
   "mimetype": "text/x-python",
   "name": "python",
   "nbconvert_exporter": "python",
   "pygments_lexer": "ipython2",
   "version": "2.7.13"
  }
 },
 "nbformat": 4,
 "nbformat_minor": 2
}
